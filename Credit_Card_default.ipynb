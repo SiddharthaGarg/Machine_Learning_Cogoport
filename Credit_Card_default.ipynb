{
  "nbformat": 4,
  "nbformat_minor": 0,
  "metadata": {
    "colab": {
      "provenance": []
    },
    "kernelspec": {
      "name": "python3",
      "display_name": "Python 3"
    },
    "language_info": {
      "name": "python"
    }
  },
  "cells": [
    {
      "cell_type": "markdown",
      "source": [
        "**Importing Necessary Libraries**"
      ],
      "metadata": {
        "id": "b3pTb2UPqx4x"
      }
    },
    {
      "cell_type": "code",
      "execution_count": 51,
      "metadata": {
        "id": "lLt_Hk2XsNUJ"
      },
      "outputs": [],
      "source": [
        "import pandas as pd\n",
        "import numpy as np\n",
        "\n",
        "import matplotlib.pyplot as plt\n",
        "import seaborn as sns\n",
        "\n",
        "from sklearn.preprocessing import StandardScaler\n",
        "from sklearn.preprocessing import MinMaxScaler\n",
        "\n",
        "from sklearn.model_selection import train_test_split\n",
        "\n",
        "from sklearn.linear_model import LogisticRegression\n",
        "from sklearn.svm import SVC\n",
        "from sklearn.neural_network import MLPClassifier\n",
        "from sklearn.tree import DecisionTreeClassifier\n",
        "from sklearn.ensemble import RandomForestClassifier\n",
        "from sklearn.metrics import accuracy_score\n"
      ]
    },
    {
      "cell_type": "code",
      "source": [
        "dataset = pd.read_csv('CC_Data.csv')\n",
        "dataset.info()\n",
        "# dataset = dataset.drop('ID',axis=0)\n",
        "print(dataset)"
      ],
      "metadata": {
        "colab": {
          "base_uri": "https://localhost:8080/"
        },
        "id": "ORMI-b_NaMET",
        "outputId": "5597c232-ee7f-4f6e-a94a-374f888f1cc5"
      },
      "execution_count": 6,
      "outputs": [
        {
          "output_type": "stream",
          "name": "stdout",
          "text": [
            "<class 'pandas.core.frame.DataFrame'>\n",
            "RangeIndex: 30001 entries, 0 to 30000\n",
            "Data columns (total 25 columns):\n",
            " #   Column      Non-Null Count  Dtype \n",
            "---  ------      --------------  ----- \n",
            " 0   Unnamed: 0  30001 non-null  object\n",
            " 1   X1          30001 non-null  object\n",
            " 2   X2          30001 non-null  object\n",
            " 3   X3          30001 non-null  object\n",
            " 4   X4          30001 non-null  object\n",
            " 5   X5          30001 non-null  object\n",
            " 6   X6          30001 non-null  object\n",
            " 7   X7          30001 non-null  object\n",
            " 8   X8          30001 non-null  object\n",
            " 9   X9          30001 non-null  object\n",
            " 10  X10         30001 non-null  object\n",
            " 11  X11         30001 non-null  object\n",
            " 12  X12         30001 non-null  object\n",
            " 13  X13         30001 non-null  object\n",
            " 14  X14         30001 non-null  object\n",
            " 15  X15         30001 non-null  object\n",
            " 16  X16         30001 non-null  object\n",
            " 17  X17         30001 non-null  object\n",
            " 18  X18         30001 non-null  object\n",
            " 19  X19         30001 non-null  object\n",
            " 20  X20         30001 non-null  object\n",
            " 21  X21         30001 non-null  object\n",
            " 22  X22         30001 non-null  object\n",
            " 23  X23         30001 non-null  object\n",
            " 24  Y           30001 non-null  object\n",
            "dtypes: object(25)\n",
            "memory usage: 5.7+ MB\n",
            "      Unnamed: 0         X1   X2         X3        X4   X5     X6     X7  \\\n",
            "0             ID  LIMIT_BAL  SEX  EDUCATION  MARRIAGE  AGE  PAY_0  PAY_2   \n",
            "1              1      20000    2          2         1   24      2      2   \n",
            "2              2     120000    2          2         2   26     -1      2   \n",
            "3              3      90000    2          2         2   34      0      0   \n",
            "4              4      50000    2          2         1   37      0      0   \n",
            "...          ...        ...  ...        ...       ...  ...    ...    ...   \n",
            "29996      29996     220000    1          3         1   39      0      0   \n",
            "29997      29997     150000    1          3         2   43     -1     -1   \n",
            "29998      29998      30000    1          2         2   37      4      3   \n",
            "29999      29999      80000    1          3         1   41      1     -1   \n",
            "30000      30000      50000    1          2         1   46      0      0   \n",
            "\n",
            "          X8     X9  ...        X15        X16        X17       X18       X19  \\\n",
            "0      PAY_3  PAY_4  ...  BILL_AMT4  BILL_AMT5  BILL_AMT6  PAY_AMT1  PAY_AMT2   \n",
            "1         -1     -1  ...          0          0          0         0       689   \n",
            "2          0      0  ...       3272       3455       3261         0      1000   \n",
            "3          0      0  ...      14331      14948      15549      1518      1500   \n",
            "4          0      0  ...      28314      28959      29547      2000      2019   \n",
            "...      ...    ...  ...        ...        ...        ...       ...       ...   \n",
            "29996      0      0  ...      88004      31237      15980      8500     20000   \n",
            "29997     -1     -1  ...       8979       5190          0      1837      3526   \n",
            "29998      2     -1  ...      20878      20582      19357         0         0   \n",
            "29999      0      0  ...      52774      11855      48944     85900      3409   \n",
            "30000      0      0  ...      36535      32428      15313      2078      1800   \n",
            "\n",
            "            X20       X21       X22       X23                           Y  \n",
            "0      PAY_AMT3  PAY_AMT4  PAY_AMT5  PAY_AMT6  default payment next month  \n",
            "1             0         0         0         0                           1  \n",
            "2          1000      1000         0      2000                           1  \n",
            "3          1000      1000      1000      5000                           0  \n",
            "4          1200      1100      1069      1000                           0  \n",
            "...         ...       ...       ...       ...                         ...  \n",
            "29996      5003      3047      5000      1000                           0  \n",
            "29997      8998       129         0         0                           0  \n",
            "29998     22000      4200      2000      3100                           1  \n",
            "29999      1178      1926     52964      1804                           1  \n",
            "30000      1430      1000      1000      1000                           1  \n",
            "\n",
            "[30001 rows x 25 columns]\n"
          ]
        }
      ]
    },
    {
      "cell_type": "code",
      "source": [
        "def preprocess(data):\n",
        "  data = data.copy()\n",
        "\n",
        "  data = data.drop('Unnamed: 0',axis=1)\n",
        "  # print(data)\n",
        "  data = data.drop(index=0)\n",
        "  X = data.iloc[:,:-1].copy()\n",
        "  Y = data.iloc[:,-1].copy()\n",
        "\n",
        "\n",
        "  scaler = StandardScaler()\n",
        "  scaler2 = MinMaxScaler()\n",
        "\n",
        "  X_1 = pd.DataFrame(scaler.fit_transform(X), columns=X.columns)\n",
        "  X_2 = pd.DataFrame(scaler2.fit_transform(X), columns=X.columns)\n",
        "  # print(data)\n",
        "  return X_1,X_2,Y"
      ],
      "metadata": {
        "id": "hbEFzJUzdEex"
      },
      "execution_count": 95,
      "outputs": []
    },
    {
      "cell_type": "code",
      "source": [
        "X_1,X_2,Y = preprocess(dataset)\n",
        "# print(dataset)\n",
        "print(X_1)\n",
        "print(Y)"
      ],
      "metadata": {
        "colab": {
          "base_uri": "https://localhost:8080/"
        },
        "id": "uN4v3wmTdq7s",
        "outputId": "e976dafc-4a85-453a-ca00-7c7089d60331"
      },
      "execution_count": 96,
      "outputs": [
        {
          "output_type": "stream",
          "name": "stdout",
          "text": [
            "             X1        X2        X3        X4        X5        X6        X7  \\\n",
            "0     -1.136720  0.810161  0.185828 -1.057295 -1.246020  1.794564  1.782348   \n",
            "1     -0.365981  0.810161  0.185828  0.858557 -1.029047 -0.874991  1.782348   \n",
            "2     -0.597202  0.810161  0.185828  0.858557 -0.161156  0.014861  0.111736   \n",
            "3     -0.905498  0.810161  0.185828 -1.057295  0.164303  0.014861  0.111736   \n",
            "4     -0.905498 -1.234323  0.185828 -1.057295  2.334029 -0.874991  0.111736   \n",
            "...         ...       ...       ...       ...       ...       ...       ...   \n",
            "29995  0.404759 -1.234323  1.451114 -1.057295  0.381275  0.014861  0.111736   \n",
            "29996 -0.134759 -1.234323  1.451114  0.858557  0.815221 -0.874991 -0.723570   \n",
            "29997 -1.059646 -1.234323  0.185828  0.858557  0.164303  3.574267  2.617654   \n",
            "29998 -0.674276 -1.234323  1.451114 -1.057295  0.598248  0.904712 -0.723570   \n",
            "29999 -0.905498 -1.234323  0.185828 -1.057295  1.140680  0.014861  0.111736   \n",
            "\n",
            "             X8        X9       X10  ...       X14       X15       X16  \\\n",
            "0     -0.696663 -0.666599 -1.530046  ... -0.667993 -0.672497 -0.663059   \n",
            "1      0.138865  0.188746  0.234917  ... -0.639254 -0.621636 -0.606229   \n",
            "2      0.138865  0.188746  0.234917  ... -0.482408 -0.449730 -0.417188   \n",
            "3      0.138865  0.188746  0.234917  ...  0.032846 -0.232373 -0.186729   \n",
            "4     -0.696663  0.188746  0.234917  ... -0.161189 -0.346997 -0.348137   \n",
            "...         ...       ...       ...  ...       ...       ...       ...   \n",
            "29995  0.138865  0.188746  0.234917  ...  2.326690  0.695474 -0.149259   \n",
            "29996 -0.696663 -0.666599  0.234917  ... -0.627430 -0.532924 -0.577691   \n",
            "29997  1.809921 -0.666599  0.234917  ... -0.638158 -0.347961 -0.324517   \n",
            "29998  0.138865  0.188746  0.234917  ...  0.422373  0.147844 -0.468063   \n",
            "29999  0.138865  0.188746  0.234917  ...  0.039667 -0.104582 -0.129669   \n",
            "\n",
            "            X17       X18       X19       X20       X21       X22       X23  \n",
            "0     -0.652724 -0.341942 -0.227086 -0.296801 -0.308063 -0.314136 -0.293382  \n",
            "1     -0.597966 -0.341942 -0.213588 -0.240005 -0.244230 -0.314136 -0.180878  \n",
            "2     -0.391630 -0.250292 -0.191887 -0.240005 -0.244230 -0.248683 -0.012122  \n",
            "3     -0.156579 -0.221191 -0.169361 -0.228645 -0.237846 -0.244166 -0.237130  \n",
            "4     -0.331482 -0.221191  1.335034  0.271165  0.266434 -0.269039 -0.255187  \n",
            "...         ...       ...       ...       ...       ...       ...       ...  \n",
            "29995 -0.384392  0.171250  0.611048 -0.012648 -0.113564  0.013131 -0.237130  \n",
            "29996 -0.652724 -0.231032 -0.103955  0.214255 -0.299828 -0.314136 -0.293382  \n",
            "29997 -0.327687 -0.341942 -0.256990  0.952725 -0.039964 -0.183229 -0.119001  \n",
            "29998  0.169130  4.844316 -0.109033 -0.229895 -0.185120  3.152536 -0.191904  \n",
            "29999 -0.395592 -0.216481 -0.178866 -0.215582 -0.244230 -0.248683 -0.237130  \n",
            "\n",
            "[30000 rows x 23 columns]\n",
            "1        1\n",
            "2        1\n",
            "3        0\n",
            "4        0\n",
            "5        0\n",
            "        ..\n",
            "29996    0\n",
            "29997    0\n",
            "29998    1\n",
            "29999    1\n",
            "30000    1\n",
            "Name: Y, Length: 30000, dtype: object\n"
          ]
        }
      ]
    },
    {
      "cell_type": "code",
      "source": [
        "X_1_train, X_1_test, Y_train, Y_test = train_test_split(X_1,Y, train_size=0.8, random_state=123)\n",
        "X_2_train, X_2_test, Y_train, Y_test = train_test_split(X_2,Y, train_size=0.8, random_state=123)\n"
      ],
      "metadata": {
        "id": "e4hWg58YioTg"
      },
      "execution_count": 106,
      "outputs": []
    },
    {
      "cell_type": "code",
      "source": [
        "models = {\n",
        "    LogisticRegression():                    \"Logistic Regression\",\n",
        "    SVC():                                   \"Support Vector Machine\",\n",
        "    DecisionTreeClassifier(random_state=42): \"Decision Tree\",\n",
        "    RandomForestClassifier(n_estimators=100, random_state=42): \"Random Forest Classifier\"\n",
        "\n",
        "}\n",
        "\n",
        "for model in models.keys():\n",
        "    model.fit(X_1_train, Y_train)"
      ],
      "metadata": {
        "id": "OSigy7QTjnLC"
      },
      "execution_count": 107,
      "outputs": []
    },
    {
      "cell_type": "code",
      "source": [
        "for model, name in models.items():\n",
        "    print(name + \": {:.2f}%\".format(model.score(X_1_test, Y_test) * 100))"
      ],
      "metadata": {
        "colab": {
          "base_uri": "https://localhost:8080/"
        },
        "id": "1CDzo2Sgj2KN",
        "outputId": "9e35e946-1658-42e9-b4ce-9de7c19bc180"
      },
      "execution_count": 108,
      "outputs": [
        {
          "output_type": "stream",
          "name": "stdout",
          "text": [
            "Logistic Regression: 81.30%\n",
            "Support Vector Machine: 81.97%\n",
            "Decision Tree: 72.23%\n",
            "Random Forest Classifier: 81.73%\n"
          ]
        }
      ]
    },
    {
      "cell_type": "code",
      "source": [
        "NN_classifier = MLPClassifier()\n",
        "NN_classifier.fit(X_2_train, Y_train)\n",
        "accuracy = NN_classifier.score(X_2_test, Y_test)\n",
        "print(\"Neural Network Accuracy: \" + str(accuracy * 100) + \"%\")"
      ],
      "metadata": {
        "colab": {
          "base_uri": "https://localhost:8080/"
        },
        "id": "K90sXYkpkuf6",
        "outputId": "d22ad3dc-7097-4270-9035-46ffbba8fbb6"
      },
      "execution_count": 109,
      "outputs": [
        {
          "output_type": "stream",
          "name": "stdout",
          "text": [
            "Neural Network Accuracy: 82.01666666666667%\n"
          ]
        }
      ]
    },
    {
      "cell_type": "code",
      "source": [],
      "metadata": {
        "id": "B__3M-1wmAW_"
      },
      "execution_count": null,
      "outputs": []
    }
  ]
}